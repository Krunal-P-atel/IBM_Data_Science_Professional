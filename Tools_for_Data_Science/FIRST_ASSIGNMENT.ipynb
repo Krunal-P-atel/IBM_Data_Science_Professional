{
 "cells": [
  {
   "cell_type": "markdown",
   "id": "f0b863e8-8fe2-4099-a95d-1a557004cd0f",
   "metadata": {},
   "source": [
    "# My Jupyter Notebook on IBM Watson Studio\n",
    "### Krunal Patel\n",
    "\n",
    "Data Scientist\n",
    "\n",
    "I have an interested in Data Science because Data is the key to future.\n",
    "\n",
    "The below should print 'Hello World'"
   ]
  },
  {
   "cell_type": "code",
   "execution_count": 1,
   "id": "4fde4c80-f1ae-43b2-860b-ea4658d45f99",
   "metadata": {},
   "outputs": [
    {
     "name": "stdout",
     "output_type": "stream",
     "text": [
      "Hello World!\n"
     ]
    }
   ],
   "source": [
    "print('Hello World!')"
   ]
  }
 ],
 "metadata": {
  "kernelspec": {
   "display_name": "Python 3 (ipykernel)",
   "language": "python",
   "name": "python3"
  },
  "language_info": {
   "codemirror_mode": {
    "name": "ipython",
    "version": 3
   },
   "file_extension": ".py",
   "mimetype": "text/x-python",
   "name": "python",
   "nbconvert_exporter": "python",
   "pygments_lexer": "ipython3",
   "version": "3.9.12"
  }
 },
 "nbformat": 4,
 "nbformat_minor": 5
}
