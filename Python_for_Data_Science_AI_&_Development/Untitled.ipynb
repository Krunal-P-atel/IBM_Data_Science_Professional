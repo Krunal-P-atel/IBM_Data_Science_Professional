{
 "cells": [
  {
   "cell_type": "code",
   "execution_count": 7,
   "id": "79675d63-0138-4fb3-bb1b-14d6f63201bb",
   "metadata": {},
   "outputs": [
    {
     "data": {
      "text/plain": [
       "'STRINGS'"
      ]
     },
     "execution_count": 7,
     "metadata": {},
     "output_type": "execute_result"
    }
   ],
   "source": [
    "string = 'Strings'\n",
    "\n",
    "string.upper()"
   ]
  },
  {
   "cell_type": "code",
   "execution_count": null,
   "id": "69b3e5da-dd54-4065-9781-d1f682d01cef",
   "metadata": {},
   "outputs": [],
   "source": []
  }
 ],
 "metadata": {
  "kernelspec": {
   "display_name": "Python 3 (ipykernel)",
   "language": "python",
   "name": "python3"
  },
  "language_info": {
   "codemirror_mode": {
    "name": "ipython",
    "version": 3
   },
   "file_extension": ".py",
   "mimetype": "text/x-python",
   "name": "python",
   "nbconvert_exporter": "python",
   "pygments_lexer": "ipython3",
   "version": "3.9.12"
  }
 },
 "nbformat": 4,
 "nbformat_minor": 5
}
